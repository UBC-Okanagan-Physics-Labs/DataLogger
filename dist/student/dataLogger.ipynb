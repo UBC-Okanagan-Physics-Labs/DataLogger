{
 "cells": [
  {
   "cell_type": "code",
   "execution_count": null,
   "id": "aefead94",
   "metadata": {},
   "outputs": [],
   "source": [
    "import numpy as np\n",
    "import pandas as pd\n",
    "import matplotlib.pyplot as plt\n",
    "import sympy as sym\n",
    "from otter.check.logs import Log"
   ]
  },
  {
   "cell_type": "code",
   "execution_count": null,
   "id": "f49636b0",
   "metadata": {},
   "outputs": [],
   "source": [
    "import PHYS121\n",
    "PHYS121.Installer()"
   ]
  },
  {
   "cell_type": "code",
   "execution_count": null,
   "id": "3f1bffc1",
   "metadata": {},
   "outputs": [],
   "source": [
    "# Import Otter for the purposes of autograding\n",
    "import otter\n",
    "\n",
    "# Initialize Otter (for the purposes of auto-grading some cells)\n",
    "grader = otter.Notebook(\"dataLogger.ipynb\")"
   ]
  },
  {
   "cell_type": "code",
   "execution_count": null,
   "id": "2743ada7",
   "metadata": {},
   "outputs": [],
   "source": [
    "z = sym.symbols('z')"
   ]
  },
  {
   "cell_type": "markdown",
   "id": "24b1fc17",
   "metadata": {},
   "source": [
    "***\n",
    "**<span style=\"color:blue\">Question 1</span>** **<span style=\"color:red\">(1 mark)</span>**  \n",
    "Enter a string.  The correct answer is 'hello world'."
   ]
  },
  {
   "cell_type": "markdown",
   "id": "d552e8a3",
   "metadata": {},
   "source": [
    "**<span style=\"color:blue\">Answer 1</span>**  \n",
    "Replace the ... in the cell below with your answer.    \n",
    "*** Please do not change anything to the left of the equals sign. ***"
   ]
  },
  {
   "cell_type": "code",
   "execution_count": null,
   "id": "8b5032b6",
   "metadata": {
    "tags": []
   },
   "outputs": [],
   "source": [
    "text = ..."
   ]
  },
  {
   "cell_type": "code",
   "execution_count": null,
   "id": "1bae3a79",
   "metadata": {
    "deletable": false,
    "editable": false
   },
   "outputs": [],
   "source": [
    "q = 'q1'\n",
    "x = grader.check(q)\n",
    "log = Log.from_file(\".OTTER_LOG\")\n",
    "PHYS121.dataLogger(q, text, str(log.get_results(q)))\n",
    "x"
   ]
  },
  {
   "cell_type": "markdown",
   "id": "ca06443b",
   "metadata": {},
   "source": [
    "***\n",
    "**<span style=\"color:blue\">Question 2</span>** **<span style=\"color:red\">(1 mark)</span>**  \n",
    "Enter a float.  The correct answer is 2.34."
   ]
  },
  {
   "cell_type": "markdown",
   "id": "21003ba8",
   "metadata": {},
   "source": [
    "**<span style=\"color:blue\">Answer 2</span>**  \n",
    "Replace the ... in the cell below with your answer.    \n",
    "*** Please do not change anything to the left of the equals sign. ***"
   ]
  },
  {
   "cell_type": "code",
   "execution_count": null,
   "id": "96cec450",
   "metadata": {
    "tags": []
   },
   "outputs": [],
   "source": [
    "num = ..."
   ]
  },
  {
   "cell_type": "code",
   "execution_count": null,
   "id": "2fc364ca",
   "metadata": {
    "deletable": false,
    "editable": false
   },
   "outputs": [],
   "source": [
    "q = 'q2'\n",
    "x = grader.check(q)\n",
    "log = Log.from_file(\".OTTER_LOG\")\n",
    "PHYS121.dataLogger(q, num, str(log.get_results(q)))\n",
    "x"
   ]
  },
  {
   "cell_type": "markdown",
   "id": "d8e8521f",
   "metadata": {},
   "source": [
    "***\n",
    "Just for fun, let's import and display the PHYS121_DataLogger.txt file using a Pandas dataframe."
   ]
  },
  {
   "cell_type": "code",
   "execution_count": null,
   "id": "782717e2",
   "metadata": {},
   "outputs": [],
   "source": [
    "df = pd.read_csv('PHYS121_DataLogger.txt', sep='\\t')\n",
    "df"
   ]
  },
  {
   "cell_type": "markdown",
   "id": "02fa3efb",
   "metadata": {},
   "source": [
    "***\n",
    "Once you've completed this notebook:\n",
    "- Save your work.\n",
    "- Run 'grader.check_all()' to confirm that you've completed all required tasks.\n",
    "- Run 'grader.export()' to generate a .zip file containing all of the materials that you will submit.\n",
    "- Download the generated .zip file.\n",
    "- Upload the .zip file to the PHYS 121 Canvas gradebook.\n",
    "- **Do NOT change the number of the .zip file.**\n",
    "- **Do NOT modify the contents of the .zip file.**\n",
    "\n",
    "Here is a <a href = \"https://raw.githubusercontent.com/UBC-Okanagan-Physics-Labs/PHYS-121-images/main/general/gifs/Submission.gif\">GIF</a> showing how these steps are completed.  Once your completed notebook has been uploaded to the Canvas gradebook, you're done!"
   ]
  },
  {
   "cell_type": "markdown",
   "id": "0cc2d338",
   "metadata": {},
   "source": [
    "---\n",
    "\n",
    "To double-check your work, the cell below will rerun all of the autograder tests."
   ]
  },
  {
   "cell_type": "code",
   "execution_count": null,
   "id": "9ef6bef0",
   "metadata": {},
   "outputs": [],
   "source": [
    "grader.check_all()"
   ]
  },
  {
   "cell_type": "markdown",
   "id": "a22cb568",
   "metadata": {},
   "source": [
    "## Submission\n",
    "\n",
    "Make sure you have run all cells in your notebook in order before running the cell below, so that all images/graphs appear in the output. The cell below will generate a zip file for you to submit. **Please save before exporting!**"
   ]
  },
  {
   "cell_type": "code",
   "execution_count": null,
   "id": "7edde4a4",
   "metadata": {},
   "outputs": [],
   "source": [
    "# Save your notebook first, then run this cell to export your submission.\n",
    "grader.export(files = ['PHYS121_DataLogger.txt'], pdf = False)"
   ]
  },
  {
   "cell_type": "markdown",
   "id": "f14d66c2",
   "metadata": {},
   "source": [
    "***\n",
    "<img src=\"https://raw.githubusercontent.com/UBC-Okanagan-Physics-Labs/Digital-Assessment-Techniques-CoP/main/images/ubc-logo-full.jpg\" width=\"500\"/>"
   ]
  },
  {
   "cell_type": "markdown",
   "id": "2fb7bd82",
   "metadata": {},
   "source": [
    "Last update: January 20, 2024"
   ]
  }
 ],
 "metadata": {
  "kernelspec": {
   "display_name": "Python 3 (ipykernel)",
   "language": "python",
   "name": "python3"
  },
  "language_info": {
   "codemirror_mode": {
    "name": "ipython",
    "version": 3
   },
   "file_extension": ".py",
   "mimetype": "text/x-python",
   "name": "python",
   "nbconvert_exporter": "python",
   "pygments_lexer": "ipython3",
   "version": "3.10.6"
  },
  "otter": {
   "OK_FORMAT": true,
   "tests": {
    "q1": {
     "name": "q1",
     "points": null,
     "suites": [
      {
       "cases": [
        {
         "code": ">>> isinstance(text, str)\nTrue",
         "failure_message": "text must be a string (enclosed in single or double quotes).",
         "hidden": false,
         "locked": false,
         "points": 0
        },
        {
         "code": ">>> test = True\n>>> if isinstance(text, str):\n...     test = text == \"hello world\"\n>>> test\nTrue",
         "failure_message": "Double check the string you entered.",
         "hidden": false,
         "locked": false,
         "points": 1
        }
       ],
       "scored": true,
       "setup": "",
       "teardown": "",
       "type": "doctest"
      }
     ]
    },
    "q2": {
     "name": "q2",
     "points": null,
     "suites": [
      {
       "cases": [
        {
         "code": ">>> isinstance(num, float)\nTrue",
         "failure_message": "text must be a string (enclosed in single or double quotes).",
         "hidden": false,
         "locked": false,
         "points": 0
        },
        {
         "code": ">>> test = True\n>>> if isinstance(num, float):\n...     test = num == 2.34\n>>> test\nTrue",
         "failure_message": "Double check the string you entered.",
         "hidden": false,
         "locked": false,
         "points": 1
        }
       ],
       "scored": true,
       "setup": "",
       "teardown": "",
       "type": "doctest"
      }
     ]
    }
   }
  }
 },
 "nbformat": 4,
 "nbformat_minor": 5
}
