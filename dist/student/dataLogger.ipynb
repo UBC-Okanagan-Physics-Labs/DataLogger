{
 "cells": [
  {
   "cell_type": "code",
   "execution_count": null,
   "id": "f8e01216",
   "metadata": {},
   "outputs": [],
   "source": [
    "import numpy as np\n",
    "import pandas as pd\n",
    "import matplotlib.pyplot as plt\n",
    "import sympy as sym\n",
    "from otter.check.logs import Log"
   ]
  },
  {
   "cell_type": "code",
   "execution_count": null,
   "id": "c2fe919c",
   "metadata": {},
   "outputs": [],
   "source": [
    "import PHYS121\n",
    "PHYS121.Installer()"
   ]
  },
  {
   "cell_type": "code",
   "execution_count": null,
   "id": "35242a04",
   "metadata": {},
   "outputs": [],
   "source": [
    "# Import Otter for the purposes of autograding\n",
    "import otter\n",
    "\n",
    "# Initialize Otter (for the purposes of auto-grading some cells)\n",
    "grader = otter.Notebook(\"dataLogger.ipynb\")"
   ]
  },
  {
   "cell_type": "code",
   "execution_count": null,
   "id": "c27ce646",
   "metadata": {},
   "outputs": [],
   "source": [
    "z = sym.symbols('z')"
   ]
  },
  {
   "cell_type": "markdown",
   "id": "5c830c16",
   "metadata": {},
   "source": [
    "***\n",
    "**<span style=\"color:blue\">Question 1</span>** **<span style=\"color:red\">(1 mark)</span>**  \n",
    "Enter a string.  The correct answer is 'hello world'."
   ]
  },
  {
   "cell_type": "markdown",
   "id": "53472a06",
   "metadata": {},
   "source": [
    "**<span style=\"color:blue\">Answer 1</span>**  \n",
    "Replace the ... in the cell below with your answer.    \n",
    "*** Please do not change anything to the left of the equals sign. ***"
   ]
  },
  {
   "cell_type": "code",
   "execution_count": null,
   "id": "b79cc5fe",
   "metadata": {
    "tags": []
   },
   "outputs": [],
   "source": [
    "text = ..."
   ]
  },
  {
   "cell_type": "code",
   "execution_count": null,
   "id": "f6cf83fc",
   "metadata": {
    "deletable": false,
    "editable": false
   },
   "outputs": [],
   "source": [
    "ques = 'q1'\n",
    "PHYS121.dataLogger(ques, text, str(grader.check(ques)))\n",
    "grader.check(ques)"
   ]
  },
  {
   "cell_type": "markdown",
   "id": "a5624a86",
   "metadata": {},
   "source": [
    "***\n",
    "**<span style=\"color:blue\">Question 2</span>** **<span style=\"color:red\">(1 mark)</span>**  \n",
    "Enter a float.  The correct answer is 2.34."
   ]
  },
  {
   "cell_type": "markdown",
   "id": "26f27ad5",
   "metadata": {},
   "source": [
    "**<span style=\"color:blue\">Answer 2</span>**  \n",
    "Replace the ... in the cell below with your answer.    \n",
    "*** Please do not change anything to the left of the equals sign. ***"
   ]
  },
  {
   "cell_type": "code",
   "execution_count": null,
   "id": "771f168e",
   "metadata": {
    "tags": []
   },
   "outputs": [],
   "source": [
    "num = ..."
   ]
  },
  {
   "cell_type": "code",
   "execution_count": null,
   "id": "aebcefd9",
   "metadata": {
    "deletable": false,
    "editable": false
   },
   "outputs": [],
   "source": [
    "ques = 'q2'\n",
    "PHYS121.dataLogger(ques, num, str(grader.check(ques)))\n",
    "grader.check(ques)"
   ]
  },
  {
   "cell_type": "markdown",
   "id": "0a41f81e",
   "metadata": {},
   "source": [
    "***\n",
    "Just for fun, let's import and display the PHYS121_DataLogger.txt file using a Pandas dataframe."
   ]
  },
  {
   "cell_type": "code",
   "execution_count": null,
   "id": "e872048a",
   "metadata": {},
   "outputs": [],
   "source": [
    "df = pd.read_csv('PHYS121_DataLogger.txt', sep='\\t')\n",
    "df"
   ]
  },
  {
   "cell_type": "markdown",
   "id": "771b2a98",
   "metadata": {},
   "source": [
    "***\n",
    "Once you've completed this notebook:\n",
    "- Save your work.\n",
    "- Run 'grader.check_all()' to confirm that you've completed all required tasks.\n",
    "- Run 'grader.export()' to generate a .zip file containing all of the materials that you will submit.\n",
    "- Download the generated .zip file.\n",
    "- Upload the .zip file to the PHYS 121 Canvas gradebook.\n",
    "- **Do NOT change the number of the .zip file.**\n",
    "- **Do NOT modify the contents of the .zip file.**\n",
    "\n",
    "Here is a <a href = \"https://raw.githubusercontent.com/UBC-Okanagan-Physics-Labs/PHYS-121-images/main/general/gifs/Submission.gif\">GIF</a> showing how these steps are completed.  Once your completed notebook has been uploaded to the Canvas gradebook, you're done!"
   ]
  },
  {
   "cell_type": "markdown",
   "id": "44b2b49a",
   "metadata": {},
   "source": [
    "---\n",
    "\n",
    "To double-check your work, the cell below will rerun all of the autograder tests."
   ]
  },
  {
   "cell_type": "code",
   "execution_count": null,
   "id": "b1156929",
   "metadata": {},
   "outputs": [],
   "source": [
    "grader.check_all()"
   ]
  },
  {
   "cell_type": "markdown",
   "id": "fe45bcc8",
   "metadata": {},
   "source": [
    "## Submission\n",
    "\n",
    "Make sure you have run all cells in your notebook in order before running the cell below, so that all images/graphs appear in the output. The cell below will generate a zip file for you to submit. **Please save before exporting!**"
   ]
  },
  {
   "cell_type": "code",
   "execution_count": null,
   "id": "48866f63",
   "metadata": {},
   "outputs": [],
   "source": [
    "# Save your notebook first, then run this cell to export your submission.\n",
    "grader.export(files = ['PHYS121_DataLogger.txt'], pdf = False)"
   ]
  },
  {
   "cell_type": "markdown",
   "id": "60492421",
   "metadata": {},
   "source": [
    "***\n",
    "<img src=\"https://raw.githubusercontent.com/UBC-Okanagan-Physics-Labs/Digital-Assessment-Techniques-CoP/main/images/ubc-logo-full.jpg\" width=\"500\"/>"
   ]
  },
  {
   "cell_type": "markdown",
   "id": "bd4a137d",
   "metadata": {},
   "source": [
    "Last update: January 20, 2024"
   ]
  }
 ],
 "metadata": {
  "kernelspec": {
   "display_name": "Python 3 (ipykernel)",
   "language": "python",
   "name": "python3"
  },
  "language_info": {
   "codemirror_mode": {
    "name": "ipython",
    "version": 3
   },
   "file_extension": ".py",
   "mimetype": "text/x-python",
   "name": "python",
   "nbconvert_exporter": "python",
   "pygments_lexer": "ipython3",
   "version": "3.10.6"
  },
  "otter": {
   "OK_FORMAT": true,
   "tests": {
    "q1": {
     "name": "q1",
     "points": null,
     "suites": [
      {
       "cases": [
        {
         "code": ">>> isinstance(text, str)\nTrue",
         "failure_message": "text must be a string (enclosed in single or double quotes).",
         "hidden": false,
         "locked": false,
         "points": 0
        },
        {
         "code": ">>> test = True\n>>> if isinstance(text, str):\n...     test = text == \"hello world\"\n>>> test\nTrue",
         "failure_message": "Double check the string you entered.",
         "hidden": false,
         "locked": false,
         "points": 1
        }
       ],
       "scored": true,
       "setup": "",
       "teardown": "",
       "type": "doctest"
      }
     ]
    },
    "q2": {
     "name": "q2",
     "points": null,
     "suites": [
      {
       "cases": [
        {
         "code": ">>> isinstance(num, float)\nTrue",
         "failure_message": "num must be a float (decimal number).",
         "hidden": false,
         "locked": false,
         "points": 0
        },
        {
         "code": ">>> test = True\n>>> if isinstance(num, float):\n...     test = num == 2.34\n>>> test\nTrue",
         "failure_message": "Double check the float you entered.",
         "hidden": false,
         "locked": false,
         "points": 1
        }
       ],
       "scored": true,
       "setup": "",
       "teardown": "",
       "type": "doctest"
      }
     ]
    }
   }
  }
 },
 "nbformat": 4,
 "nbformat_minor": 5
}
