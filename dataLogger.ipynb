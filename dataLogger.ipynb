{
 "cells": [
  {
   "cell_type": "raw",
   "id": "a6ef11f7-1eab-433a-9a6a-513ce1c820cb",
   "metadata": {},
   "source": [
    "# ASSIGNMENT CONFIG\n",
    "generate: \n",
    "    zips: true\n",
    "files:\n",
    "    - PHYS121.py\n",
    "export_cell: false\n",
    "init_cell: false"
   ]
  },
  {
   "cell_type": "code",
   "execution_count": 4,
   "id": "9e4d903a-ed7a-4070-a8be-fc1e55e7122d",
   "metadata": {},
   "outputs": [],
   "source": [
    "import numpy as np\n",
    "import pandas as pd\n",
    "import matplotlib.pyplot as plt\n",
    "import sympy as sym\n",
    "from otter.check.logs import Log"
   ]
  },
  {
   "cell_type": "code",
   "execution_count": 5,
   "id": "b180d102-2754-4439-b07d-ce84b7497845",
   "metadata": {},
   "outputs": [
    {
     "data": {
      "text/html": [
       "<text style=color:black>All packages already installed. Please proceed.</text>"
      ],
      "text/plain": [
       "<IPython.core.display.HTML object>"
      ]
     },
     "metadata": {},
     "output_type": "display_data"
    }
   ],
   "source": [
    "import PHYS121\n",
    "PHYS121.Installer()"
   ]
  },
  {
   "cell_type": "code",
   "execution_count": 6,
   "id": "ea837487-eb16-4898-89e4-e217df0e426f",
   "metadata": {},
   "outputs": [],
   "source": [
    "# Import Otter for the purposes of autograding\n",
    "import otter\n",
    "\n",
    "# Initialize Otter (for the purposes of auto-grading some cells)\n",
    "grader = otter.Notebook(\"dataLogger.ipynb\")"
   ]
  },
  {
   "cell_type": "code",
   "execution_count": 7,
   "id": "6df05ff5-2593-482d-bee1-dda368402b7c",
   "metadata": {},
   "outputs": [],
   "source": [
    "z = sym.symbols('z')"
   ]
  },
  {
   "cell_type": "raw",
   "id": "2a83dfdd-6c42-4c2d-ad3b-9c78cb2acfb2",
   "metadata": {},
   "source": [
    "# BEGIN QUESTION\n",
    "name: q1\n",
    "manual: False"
   ]
  },
  {
   "cell_type": "markdown",
   "id": "3f428d4c-f586-4dd1-9f78-2d35a79da7ed",
   "metadata": {},
   "source": [
    "***\n",
    "**<span style=\"color:blue\">Question 1</span>** **<span style=\"color:red\">(1 mark)</span>**  \n",
    "Enter a string.  The correct answer is 'hello world'."
   ]
  },
  {
   "cell_type": "raw",
   "id": "88477497-1295-4f3c-beb0-8a0a445d5c05",
   "metadata": {},
   "source": [
    "# BEGIN PROMPT"
   ]
  },
  {
   "cell_type": "markdown",
   "id": "5edb71fa-e61c-4614-a2fd-749a059664f7",
   "metadata": {},
   "source": [
    "**<span style=\"color:blue\">Answer 1</span>**  \n",
    "Replace the ... in the cell below with your answer.    \n",
    "*** Please do not change anything to the left of the equals sign. ***"
   ]
  },
  {
   "cell_type": "raw",
   "id": "913b33a3-66b4-47d2-97c9-40c1cdb1d8a6",
   "metadata": {},
   "source": [
    "# END PROMPT"
   ]
  },
  {
   "cell_type": "raw",
   "id": "f75505bd-1596-42a2-94b6-246adeb4a399",
   "metadata": {},
   "source": [
    "# BEGIN SOLUTION"
   ]
  },
  {
   "cell_type": "code",
   "execution_count": 1,
   "id": "81c1c808-415d-44d7-9452-819e0bc7df9e",
   "metadata": {},
   "outputs": [],
   "source": [
    "text = 'hello world' # SOLUTION"
   ]
  },
  {
   "cell_type": "raw",
   "id": "ccca20cd-92f7-4ee6-84b0-d47b2c200a50",
   "metadata": {},
   "source": [
    "# END SOLUTION"
   ]
  },
  {
   "cell_type": "raw",
   "id": "69bccd4b-4f5e-4d74-b573-8d3dc248e78e",
   "metadata": {},
   "source": [
    "# BEGIN TESTS"
   ]
  },
  {
   "cell_type": "code",
   "execution_count": 2,
   "id": "e5bb9c70-b9dc-4fe3-86ca-7a74e5921d0b",
   "metadata": {},
   "outputs": [
    {
     "data": {
      "text/plain": [
       "True"
      ]
     },
     "execution_count": 2,
     "metadata": {},
     "output_type": "execute_result"
    }
   ],
   "source": [
    "\"\"\" # BEGIN TEST CONFIG\n",
    "hidden: False\n",
    "points: 0\n",
    "failure_message: text must be a string (enclosed in single or double quotes). \n",
    "\"\"\" # END TEST CONFIG \n",
    "isinstance(text, str)"
   ]
  },
  {
   "cell_type": "code",
   "execution_count": 3,
   "id": "07ad1cfa-8ae0-46e5-8559-5be77dcdf8ce",
   "metadata": {},
   "outputs": [
    {
     "data": {
      "text/plain": [
       "True"
      ]
     },
     "execution_count": 3,
     "metadata": {},
     "output_type": "execute_result"
    }
   ],
   "source": [
    "\"\"\" # BEGIN TEST CONFIG\n",
    "hidden: False\n",
    "points: 1\n",
    "failure_message: Double check the string you entered. \n",
    "\"\"\" # END TEST CONFIG \n",
    "test = True\n",
    "if isinstance(text, str):\n",
    "    test = text == \"hello world\"\n",
    "test"
   ]
  },
  {
   "cell_type": "raw",
   "id": "29b0357a-0792-4bf5-808b-ea049fc19fae",
   "metadata": {},
   "source": [
    "# END TESTS"
   ]
  },
  {
   "cell_type": "raw",
   "id": "c7a754c7-265a-438e-a879-4501db88a143",
   "metadata": {},
   "source": [
    "# END QUESTION"
   ]
  },
  {
   "cell_type": "raw",
   "id": "f437473c-1ed8-4b2e-b23b-4fab17d6afa5",
   "metadata": {},
   "source": [
    "# BEGIN QUESTION\n",
    "name: q2\n",
    "manual: False"
   ]
  },
  {
   "cell_type": "markdown",
   "id": "1d424406-fe96-4136-8830-73b638f95fdf",
   "metadata": {},
   "source": [
    "***\n",
    "**<span style=\"color:blue\">Question 2</span>** **<span style=\"color:red\">(1 mark)</span>**  \n",
    "Enter a float.  The correct answer is 2.34."
   ]
  },
  {
   "cell_type": "raw",
   "id": "09bd4df2-7812-4c20-82b9-6018ebc43ee1",
   "metadata": {},
   "source": [
    "# BEGIN PROMPT"
   ]
  },
  {
   "cell_type": "markdown",
   "id": "024e29ab-8199-402b-a394-2faa5671a8d7",
   "metadata": {},
   "source": [
    "**<span style=\"color:blue\">Answer 2</span>**  \n",
    "Replace the ... in the cell below with your answer.    \n",
    "*** Please do not change anything to the left of the equals sign. ***"
   ]
  },
  {
   "cell_type": "raw",
   "id": "b498a31a-116d-44c4-bc31-3f68e9f6f878",
   "metadata": {},
   "source": [
    "# END PROMPT"
   ]
  },
  {
   "cell_type": "raw",
   "id": "5eb0445d-b393-447f-82b0-fb44228c14ad",
   "metadata": {},
   "source": [
    "# BEGIN SOLUTION"
   ]
  },
  {
   "cell_type": "code",
   "execution_count": 11,
   "id": "a998c412-5058-4021-a59a-9c39b1f076cc",
   "metadata": {},
   "outputs": [],
   "source": [
    "num = 2.34 # SOLUTION"
   ]
  },
  {
   "cell_type": "raw",
   "id": "4cb4af6c-249c-4b9c-9f26-626f0a0ad980",
   "metadata": {},
   "source": [
    "# END SOLUTION"
   ]
  },
  {
   "cell_type": "raw",
   "id": "0e059c2f-3c01-439a-8531-dd0aae2f00b3",
   "metadata": {},
   "source": [
    "# BEGIN TESTS"
   ]
  },
  {
   "cell_type": "code",
   "execution_count": 12,
   "id": "0bef8480-721c-4af2-9b01-4eb346fd9fd1",
   "metadata": {},
   "outputs": [
    {
     "data": {
      "text/plain": [
       "True"
      ]
     },
     "execution_count": 12,
     "metadata": {},
     "output_type": "execute_result"
    }
   ],
   "source": [
    "\"\"\" # BEGIN TEST CONFIG\n",
    "hidden: False\n",
    "points: 0\n",
    "failure_message: text must be a string (enclosed in single or double quotes). \n",
    "\"\"\" # END TEST CONFIG \n",
    "isinstance(num, float)"
   ]
  },
  {
   "cell_type": "code",
   "execution_count": 13,
   "id": "62add9d0-50ef-4a78-806e-0a3f3c116edc",
   "metadata": {},
   "outputs": [
    {
     "data": {
      "text/plain": [
       "True"
      ]
     },
     "execution_count": 13,
     "metadata": {},
     "output_type": "execute_result"
    }
   ],
   "source": [
    "\"\"\" # BEGIN TEST CONFIG\n",
    "hidden: False\n",
    "points: 1\n",
    "failure_message: Double check the string you entered. \n",
    "\"\"\" # END TEST CONFIG \n",
    "test = True\n",
    "if isinstance(num, float):\n",
    "    test = num == 2.34\n",
    "test"
   ]
  },
  {
   "cell_type": "raw",
   "id": "37617cee-af74-419b-96b3-a48b673dcfba",
   "metadata": {},
   "source": [
    "# END TESTS"
   ]
  },
  {
   "cell_type": "raw",
   "id": "16c198b0-d79f-40a9-9b61-0ef813443c2e",
   "metadata": {},
   "source": [
    "# END QUESTION"
   ]
  },
  {
   "cell_type": "markdown",
   "id": "d67566b3-7925-403e-8761-17467ac1372d",
   "metadata": {},
   "source": [
    "***\n",
    "Just for fun, let's import and display the PHYS121_DataLogger.txt file using a Pandas dataframe."
   ]
  },
  {
   "cell_type": "code",
   "execution_count": null,
   "id": "59f4f6f2-06a9-45ad-b9dd-35f62ec58132",
   "metadata": {},
   "outputs": [],
   "source": [
    "df = pd.read_csv('PHYS121_DataLogger.txt', sep='\\t', header = None)\n",
    "df"
   ]
  },
  {
   "cell_type": "markdown",
   "id": "7d247d29-21e9-4edf-8462-6178bdc83451",
   "metadata": {},
   "source": [
    "***\n",
    "Once you've completed this notebook:\n",
    "- Save your work.\n",
    "- Run 'grader.check_all()' to confirm that you've completed all required tasks.\n",
    "- Run 'grader.export()' to generate a .zip file containing all of the materials that you will submit.\n",
    "- Download the generated .zip file.\n",
    "- Upload the .zip file to the PHYS 121 Canvas gradebook.\n",
    "- **Do NOT change the number of the .zip file.**\n",
    "- **Do NOT modify the contents of the .zip file.**\n",
    "\n",
    "Here is a <a href = \"https://raw.githubusercontent.com/UBC-Okanagan-Physics-Labs/PHYS-121-images/main/general/gifs/Submission.gif\">GIF</a> showing how these steps are completed.  Once your completed notebook has been uploaded to the Canvas gradebook, you're done!"
   ]
  },
  {
   "cell_type": "markdown",
   "id": "e3cbbe66-a301-4bb1-9f6e-7d0fe2d5508e",
   "metadata": {},
   "source": [
    "---\n",
    "\n",
    "To double-check your work, the cell below will rerun all of the autograder tests."
   ]
  },
  {
   "cell_type": "code",
   "execution_count": null,
   "id": "1a1fbfe1-1ef3-46d3-a16f-27204bd67818",
   "metadata": {},
   "outputs": [],
   "source": [
    "grader.check_all()"
   ]
  },
  {
   "cell_type": "markdown",
   "id": "377b5f1d-ddb3-44b5-ba41-c2615b98aec9",
   "metadata": {},
   "source": [
    "## Submission\n",
    "\n",
    "Make sure you have run all cells in your notebook in order before running the cell below, so that all images/graphs appear in the output. The cell below will generate a zip file for you to submit. **Please save before exporting!**"
   ]
  },
  {
   "cell_type": "code",
   "execution_count": null,
   "id": "5570ab0b-5a7c-4121-9f6c-b3ce012bb2fe",
   "metadata": {},
   "outputs": [],
   "source": [
    "# Save your notebook first, then run this cell to export your submission.\n",
    "grader.export(files = ['PHYS121_DataLogger.txt'], pdf = False)"
   ]
  },
  {
   "cell_type": "markdown",
   "id": "9519b62e-8679-4415-908f-876fcc71a4b8",
   "metadata": {},
   "source": [
    "***\n",
    "<img src=\"https://raw.githubusercontent.com/UBC-Okanagan-Physics-Labs/Digital-Assessment-Techniques-CoP/main/images/ubc-logo-full.jpg\" width=\"500\"/>"
   ]
  },
  {
   "cell_type": "markdown",
   "id": "502edf7a-5626-4d24-a3bc-b6c8dc428cff",
   "metadata": {},
   "source": [
    "Last update: January 20, 2024"
   ]
  }
 ],
 "metadata": {
  "kernelspec": {
   "display_name": "Python 3 (ipykernel)",
   "language": "python",
   "name": "python3"
  },
  "language_info": {
   "codemirror_mode": {
    "name": "ipython",
    "version": 3
   },
   "file_extension": ".py",
   "mimetype": "text/x-python",
   "name": "python",
   "nbconvert_exporter": "python",
   "pygments_lexer": "ipython3",
   "version": "3.10.6"
  }
 },
 "nbformat": 4,
 "nbformat_minor": 5
}
